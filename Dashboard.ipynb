{
 "cells": [
  {
   "cell_type": "markdown",
   "id": "75d85c00-12c4-4555-99be-6ec5d7fc0ab6",
   "metadata": {},
   "source": [
    "# **DASHBOARD**"
   ]
  },
  {
   "cell_type": "markdown",
   "id": "ddee54c2-22c9-4678-91bd-2efab38bdb92",
   "metadata": {},
   "source": [
    "## **Introdução**"
   ]
  },
  {
   "cell_type": "markdown",
   "id": "1c167c04-aacd-4499-9e11-751669ede8dc",
   "metadata": {},
   "source": [
    "Este notebook é uma continuação da [análise da carteira](https://github.com/gabrielnrt/Finance/blob/main/AnaliseCarteira.ipynb) feita anteriormente. A ideia aqui é construir um painel interativo que mostre, através de gráficos de linhas, as variações percentual e total de todos os ativos da carteira, seguido de uma tabela contendo essas variações nos últimos dias.\n",
    "\n",
    "Todos os dados estão contidos no arquivo `tabelafinal.csv`."
   ]
  },
  {
   "cell_type": "markdown",
   "id": "0bc7bdd8-c778-423e-8f36-f7b079370993",
   "metadata": {},
   "source": [
    "## **Dados Iniciais**"
   ]
  },
  {
   "cell_type": "markdown",
   "id": "8117814d-357a-4eab-81ef-74be55e2f217",
   "metadata": {},
   "source": [
    "Vejamos primeiramente como estão dispostos os dados da tabela."
   ]
  },
  {
   "cell_type": "code",
   "execution_count": 1,
   "id": "244277b4-eca4-4c32-a329-c0b038298b5c",
   "metadata": {},
   "outputs": [
    {
     "data": {
      "text/html": [
       "<div>\n",
       "<style scoped>\n",
       "    .dataframe tbody tr th:only-of-type {\n",
       "        vertical-align: middle;\n",
       "    }\n",
       "\n",
       "    .dataframe tbody tr th {\n",
       "        vertical-align: top;\n",
       "    }\n",
       "\n",
       "    .dataframe thead th {\n",
       "        text-align: right;\n",
       "    }\n",
       "</style>\n",
       "<table border=\"1\" class=\"dataframe\">\n",
       "  <thead>\n",
       "    <tr style=\"text-align: right;\">\n",
       "      <th></th>\n",
       "      <th>Date</th>\n",
       "      <th>Variação Total (R$)</th>\n",
       "      <th>Variação Percentual</th>\n",
       "      <th>Nome</th>\n",
       "    </tr>\n",
       "  </thead>\n",
       "  <tbody>\n",
       "    <tr>\n",
       "      <th>0</th>\n",
       "      <td>2021-06-25</td>\n",
       "      <td>-0.000002</td>\n",
       "      <td>-2.477076e-08</td>\n",
       "      <td>ITUB4</td>\n",
       "    </tr>\n",
       "    <tr>\n",
       "      <th>1</th>\n",
       "      <td>2021-06-28</td>\n",
       "      <td>-0.699998</td>\n",
       "      <td>-1.136361e-02</td>\n",
       "      <td>ITUB4</td>\n",
       "    </tr>\n",
       "    <tr>\n",
       "      <th>2</th>\n",
       "      <td>2021-06-29</td>\n",
       "      <td>-1.300001</td>\n",
       "      <td>-2.110391e-02</td>\n",
       "      <td>ITUB4</td>\n",
       "    </tr>\n",
       "    <tr>\n",
       "      <th>3</th>\n",
       "      <td>2021-06-30</td>\n",
       "      <td>-2.000002</td>\n",
       "      <td>-3.246756e-02</td>\n",
       "      <td>ITUB4</td>\n",
       "    </tr>\n",
       "    <tr>\n",
       "      <th>4</th>\n",
       "      <td>2021-07-01</td>\n",
       "      <td>-2.219999</td>\n",
       "      <td>-3.603894e-02</td>\n",
       "      <td>ITUB4</td>\n",
       "    </tr>\n",
       "  </tbody>\n",
       "</table>\n",
       "</div>"
      ],
      "text/plain": [
       "         Date  Variação Total (R$)  Variação Percentual   Nome\n",
       "0  2021-06-25            -0.000002        -2.477076e-08  ITUB4\n",
       "1  2021-06-28            -0.699998        -1.136361e-02  ITUB4\n",
       "2  2021-06-29            -1.300001        -2.110391e-02  ITUB4\n",
       "3  2021-06-30            -2.000002        -3.246756e-02  ITUB4\n",
       "4  2021-07-01            -2.219999        -3.603894e-02  ITUB4"
      ]
     },
     "execution_count": 1,
     "metadata": {},
     "output_type": "execute_result"
    }
   ],
   "source": [
    "from pandas import read_csv, DataFrame\n",
    "\n",
    "df = read_csv('tabelafinal.csv')\n",
    "\n",
    "df.head()"
   ]
  },
  {
   "cell_type": "markdown",
   "id": "bfde2d7c-233f-444a-a072-b3115d95f97a",
   "metadata": {},
   "source": [
    "Tipos de dados:"
   ]
  },
  {
   "cell_type": "code",
   "execution_count": 4,
   "id": "ff27fb1f-0bc8-4e33-abb1-522e16405f8c",
   "metadata": {},
   "outputs": [
    {
     "data": {
      "text/plain": [
       "Date                    object\n",
       "Variação Total (R$)    float64\n",
       "Variação Percentual    float64\n",
       "Nome                    object\n",
       "dtype: object"
      ]
     },
     "execution_count": 4,
     "metadata": {},
     "output_type": "execute_result"
    }
   ],
   "source": [
    "df.dtypes"
   ]
  },
  {
   "cell_type": "markdown",
   "id": "9b9295ae-cf1f-4d0f-b59b-831d4d7bbe80",
   "metadata": {},
   "source": [
    "Note que a data está como string. A priori, isso não será um problema para realizar o gráfico de uma série temporal pois ela está no formato aaaa-mm-dd, que é compatível com a biblioteca `plotly.express`.\n",
    "\n",
    "Agora vejamos quais são os ativos que compõe essa carteira."
   ]
  },
  {
   "cell_type": "code",
   "execution_count": 5,
   "id": "1bbcee6e-ae1c-4ef6-82b9-fe7af2798eb6",
   "metadata": {},
   "outputs": [
    {
     "data": {
      "text/plain": [
       "array(['ITUB4', 'PETR4', 'VALE3', 'Carteira'], dtype=object)"
      ]
     },
     "execution_count": 5,
     "metadata": {},
     "output_type": "execute_result"
    }
   ],
   "source": [
    "df['Nome'].unique()"
   ]
  },
  {
   "cell_type": "markdown",
   "id": "f1dca28c-0f39-449c-8876-7a7dead8952b",
   "metadata": {},
   "source": [
    "Para separar o histórico de cada ativo, basta usar o método `loc` do pandas."
   ]
  },
  {
   "cell_type": "code",
   "execution_count": 6,
   "id": "91254d4e-afab-457b-acc6-ec4349c5e40a",
   "metadata": {},
   "outputs": [
    {
     "name": "stdout",
     "output_type": "stream",
     "text": [
      "         Date  Variação Total (R$)  Variação Percentual   Nome\n",
      "0  2021-06-25            -0.000002        -2.477076e-08  ITUB4\n",
      "1  2021-06-28            -0.699998        -1.136361e-02  ITUB4\n",
      "2  2021-06-29            -1.300001        -2.110391e-02  ITUB4\n",
      "3  2021-06-30            -2.000002        -3.246756e-02  ITUB4\n",
      "4  2021-07-01            -2.219999        -3.603894e-02  ITUB4\n",
      "\n",
      "\n",
      "           Date  Variação Total (R$)  Variação Percentual   Nome\n",
      "310  2021-04-05             0.000007         3.808350e-08  PETR4\n",
      "311  2021-04-06            -0.159996        -8.319277e-04  PETR4\n",
      "312  2021-04-07            -0.320000        -1.663894e-03  PETR4\n",
      "313  2021-04-08            -2.719994        -1.414306e-02  PETR4\n",
      "314  2021-04-09            -3.120003        -1.622298e-02  PETR4\n",
      "\n",
      "\n",
      "           Date  Variação Total (R$)  Variação Percentual   Nome\n",
      "677  2021-05-13            -0.000006        -1.899040e-08  VALE3\n",
      "678  2021-05-14            -5.790007        -1.715710e-02  VALE3\n",
      "679  2021-05-17             2.909997         8.622981e-03  VALE3\n",
      "680  2021-05-18             6.329995         1.875721e-02  VALE3\n",
      "681  2021-05-19            -0.720000        -2.133523e-03  VALE3\n",
      "\n",
      "\n",
      "            Date  Variação Total (R$)  Variação Percentual      Nome\n",
      "1017  2022-07-14          -372.830073            -0.159924  Carteira\n",
      "1018  2022-07-15          -355.429955            -0.152460  Carteira\n",
      "1019  2022-07-18          -339.089919            -0.145451  Carteira\n",
      "1020  2022-07-19          -322.680049            -0.138412  Carteira\n",
      "1021  2022-07-20          -358.840016            -0.153923  Carteira\n",
      "\n",
      "\n"
     ]
    }
   ],
   "source": [
    "for ativo in df['Nome'].unique():\n",
    "\n",
    "    print(df.loc[df['Nome']==ativo].head())\n",
    "    print('\\n')\n",
    "    #break"
   ]
  },
  {
   "cell_type": "markdown",
   "id": "ffe228e9-a4f2-4ca9-adc8-fe1c16a20df5",
   "metadata": {},
   "source": [
    "## **Construção do painel**"
   ]
  },
  {
   "cell_type": "markdown",
   "id": "364d808b-f0f5-41f1-bb7f-83aaf709296e",
   "metadata": {},
   "source": [
    "Conforme dito na introdução, a estrutura do nosso painel será composta por um título, seguido de uma mensagem dizendo para selecionar um ativo da carteira. Depois dessa mensagem, há um Dropdown contendo as opções que o usuário pode selecionar, e com isso ele obterá seu respectivo gráfico da variação total, seguido da variação percentual e de uma tabela com o histórico desses valores nos últimos 10 dias."
   ]
  },
  {
   "cell_type": "code",
   "execution_count": 4,
   "id": "e8196c1f-0bae-46b5-a528-f71b1789a136",
   "metadata": {},
   "outputs": [],
   "source": [
    "from dash import Dash, html, dcc, Input, Output\n",
    "\n",
    "lista = list(df['Nome'].unique())\n",
    "\n",
    "app = Dash(__name__)\n",
    "\n",
    "app.layout = html.Div(children = [\n",
    "                html.H1('Análise Exploratória de uma carteira'),\n",
    "\n",
    "                html.Div('Selecione um ativo'),\n",
    "\n",
    "                html.Br(),\n",
    "\n",
    "                dcc.Dropdown(id = 'botao',\n",
    "                             options = lista,\n",
    "                             value = 'Carteira'),\n",
    "\n",
    "                dcc.Graph(id = 'graficoAbs',\n",
    "                          figure = {}),\n",
    "\n",
    "                html.Br(),\n",
    "\n",
    "                dcc.Graph(id = 'graficoPct',\n",
    "                          figure = {}),\n",
    "\n",
    "                html.Br(),\n",
    "\n",
    "                html.Table(id = 'tabela',\n",
    "                           children = [])\n",
    "\n",
    "])"
   ]
  },
  {
   "cell_type": "markdown",
   "id": "9f31a6ae-e9dc-4c5a-bb84-11411342e781",
   "metadata": {},
   "source": [
    "## **Callbacks**"
   ]
  },
  {
   "cell_type": "markdown",
   "id": "a4de4fd7-0531-468d-960f-36f744e38104",
   "metadata": {},
   "source": [
    "Com relação às callbacks, o parâmetro `value` do Dropdown vai ser o nosso input que mudará os parâmetros `figure` dos gráficos e o `children` da tabela, que foi baseada [neste tutorial](https://dash.plotly.com/layout#reusable-components) da própria documentação do plotly."
   ]
  },
  {
   "cell_type": "code",
   "execution_count": 7,
   "id": "0c78663e-19da-44f8-abee-2ba11c98b692",
   "metadata": {},
   "outputs": [],
   "source": [
    "@app.callback(\n",
    "    [Output('graficoAbs', 'figure'), Output('graficoPct', 'figure'), Output('tabela', 'children')],\n",
    "    Input('botao', 'value')\n",
    ")\n",
    "def FuncaoAtualizadora(ativo):\n",
    "\n",
    "    sub_df = df.loc[ df['Nome'] == ativo ]\n",
    "\n",
    "    figuraAbs = line(data_frame = sub_df,\n",
    "                     x = 'Date',\n",
    "                     y = 'Variação Total (R$)')\n",
    "\n",
    "    figuraPct = line(data_frame = sub_df,\n",
    "                     x = 'Date',\n",
    "                     y = 'Variação Percentual')\n",
    "\n",
    "    sub_df2 = sub_df.tail(10)\n",
    "\n",
    "    listaa = [\n",
    "                html.Thead( html.Tr([html.Th(col) for col in sub_df2.columns])),\n",
    "                html.Tbody([\n",
    "                    html.Tr([\n",
    "                        html.Td(sub_df2.iloc[i][col]) for col in sub_df2.columns\n",
    "                    ]) for i in range(min(len(sub_df2), 10))\n",
    "                ])\n",
    "            ]\n",
    "\n",
    "    return figuraAbs, figuraPct, listaa\n"
   ]
  },
  {
   "cell_type": "markdown",
   "id": "64cb3d43-770d-4733-b91c-4458473b7aa9",
   "metadata": {},
   "source": [
    "Obs: tive que criar um segundo `sub_df` pois a tabela mostraria as 10 primeiras linhas caso contrário.\n",
    "\n",
    "Para ver o painel, basta executar o código abaixo. Mas como dito em outros notebooks, é melhor fazer isso num script, que neste caso é o arquivo `painel.py`."
   ]
  },
  {
   "cell_type": "code",
   "execution_count": null,
   "id": "533ffc50-9628-409c-917e-6eefbcc4012f",
   "metadata": {},
   "outputs": [],
   "source": [
    "if __name__ == '__main__':\n",
    "    app.run_server(debug = True)"
   ]
  }
 ],
 "metadata": {
  "kernelspec": {
   "display_name": "Python 3 (ipykernel)",
   "language": "python",
   "name": "python3"
  },
  "language_info": {
   "codemirror_mode": {
    "name": "ipython",
    "version": 3
   },
   "file_extension": ".py",
   "mimetype": "text/x-python",
   "name": "python",
   "nbconvert_exporter": "python",
   "pygments_lexer": "ipython3",
   "version": "3.8.10"
  }
 },
 "nbformat": 4,
 "nbformat_minor": 5
}
